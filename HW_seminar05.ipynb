{
 "cells": [
  {
   "attachments": {},
   "cell_type": "markdown",
   "metadata": {},
   "source": [
    "### Задача №1\n",
    "Вы провели эксперимент c упрощением формы заказа в магазине Утконос и получили результаты по метрике конверсий в покупку. Выберите метод оценки и оцените есть ли стат.значимые различия между конверсиями в двух группах при alpha = 5%. Дайте краткие рекомендации команде.<br>Результаты:<br>\n",
    " 1. Число юзеров в группах , которые заходили на сайт в период эксперимента: n1 = 15550 и n2 = 15550. \n",
    " 2. Число юзеров в группах , которые совершили хотя бы одну покупку за период эксперимента: n1 = 164 и n2 = 228.\n",
    " 3. Конверсии : conv1 = 1.05% conv2 = 1.47%."
   ]
  },
  {
   "cell_type": "code",
   "execution_count": 1,
   "metadata": {},
   "outputs": [],
   "source": [
    "import numpy as np\n",
    "n1=15550            # количество пользователей в первой группе\n",
    "n2=15550            # количество пользователей во второй группе\n",
    "conv1=1.05/100      # конверсия для первой группы\n",
    "conv2=1.47/100      # конверсия для второй группы"
   ]
  },
  {
   "attachments": {},
   "cell_type": "markdown",
   "metadata": {},
   "source": [
    "Расчитаем доверительный интервал."
   ]
  },
  {
   "cell_type": "code",
   "execution_count": 2,
   "metadata": {},
   "outputs": [
    {
     "name": "stdout",
     "output_type": "stream",
     "text": [
      "Доверительный интервал [-0.00668, -0.00172]\n"
     ]
    }
   ],
   "source": [
    "interval1=round((conv1-conv2-1.96*np.sqrt(conv1*(1-conv1)/n1+conv2*(1-conv2)/n2)),5)\n",
    "interval2=round((conv1-conv2+1.96*np.sqrt(conv1*(1-conv1)/n1+conv2*(1-conv2)/n2)),5)\n",
    "interval=[interval1,interval2]\n",
    "print('Доверительный интервал', interval)"
   ]
  },
  {
   "attachments": {},
   "cell_type": "markdown",
   "metadata": {},
   "source": [
    "Так как 0 не входит в полученный интервал, то можно сделать вывод о наличии статистически значимой разницы между группами. Следовательно имеет смысл применить вариант Б, потому что он имеет большую конверсию."
   ]
  },
  {
   "attachments": {},
   "cell_type": "markdown",
   "metadata": {},
   "source": [
    "*Также для определения статистической значимости при работе с конверсиями можно использовать метод Хи-Квадрат.*"
   ]
  },
  {
   "cell_type": "code",
   "execution_count": 3,
   "metadata": {},
   "outputs": [
    {
     "name": "stdout",
     "output_type": "stream",
     "text": [
      "Хи-квадрат p-value:  0.0013167064918271777\n",
      "Вариант Б лучше.\n"
     ]
    }
   ],
   "source": [
    "import scipy.stats as stats\n",
    "\n",
    "# Загрузим данные в переменные\n",
    "group_A = [164, 15550]\n",
    "group_B = [228, 15550]\n",
    "\n",
    "# Запускаем тест\n",
    "chi2, p, dof, ex = stats.chi2_contingency([group_A, group_B], correction=False)\n",
    "\n",
    "lift = (group_B[0]/group_B[1])/(group_A[0]/group_A[1])\n",
    "std_error = np.sqrt(1/group_B[0] + 1/group_B[1] + 1/group_A[0] + 1/group_A[1])\n",
    "ci = stats.norm.interval(0.95, loc=lift, scale=std_error)\n",
    "\n",
    "# Выводим результаты\n",
    "print(\"Хи-квадрат p-value: \", p)\n",
    "\n",
    "# Проверяем есть ли изменение\n",
    "if p < 0.05 and ci[0] > 1:\n",
    "    print(\"Вариант Б лучше.\")\n",
    "else:\n",
    "    print(\"Разницы нет.\")"
   ]
  },
  {
   "attachments": {},
   "cell_type": "markdown",
   "metadata": {},
   "source": [
    "### Задача №2\n",
    "Сравниваем метрику конверсия в покупку. Размер выборки - 10000 элементов в каждой группе. Какой статистический критерий тут лучше всего подойдёт и почему?"
   ]
  },
  {
   "attachments": {},
   "cell_type": "markdown",
   "metadata": {},
   "source": [
    "**Ответ:<br>**\n",
    "Поскольку конверсия в покупку относится к качественному типу метрик, то для того, чтобы проверить статистическую значимость изменения, можно использовать метод Хи‑Квадрат."
   ]
  }
 ],
 "metadata": {
  "kernelspec": {
   "display_name": "Python 3",
   "language": "python",
   "name": "python3"
  },
  "language_info": {
   "codemirror_mode": {
    "name": "ipython",
    "version": 3
   },
   "file_extension": ".py",
   "mimetype": "text/x-python",
   "name": "python",
   "nbconvert_exporter": "python",
   "pygments_lexer": "ipython3",
   "version": "3.10.10"
  },
  "orig_nbformat": 4,
  "vscode": {
   "interpreter": {
    "hash": "8d73ce86a6b86610ac5bc652fba28d92c56b13683148cbfece1fcc6a465b5858"
   }
  }
 },
 "nbformat": 4,
 "nbformat_minor": 2
}
